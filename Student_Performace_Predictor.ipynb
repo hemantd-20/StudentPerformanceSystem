{
 "cells": [
  {
   "cell_type": "code",
   "execution_count": 1,
   "id": "169abb3e",
   "metadata": {},
   "outputs": [],
   "source": [
    "import numpy as np\n",
    "import pandas as pd\n",
    "import matplotlib.pyplot as plt\n",
    "import seaborn as sns"
   ]
  },
  {
   "cell_type": "code",
   "execution_count": 2,
   "id": "40de8fa8",
   "metadata": {},
   "outputs": [],
   "source": [
    "df = pd.read_csv(\"StudentsPerformance.csv\")"
   ]
  },
  {
   "cell_type": "code",
   "execution_count": 3,
   "id": "3975f223",
   "metadata": {},
   "outputs": [
    {
     "data": {
      "text/html": [
       "<div>\n",
       "<style scoped>\n",
       "    .dataframe tbody tr th:only-of-type {\n",
       "        vertical-align: middle;\n",
       "    }\n",
       "\n",
       "    .dataframe tbody tr th {\n",
       "        vertical-align: top;\n",
       "    }\n",
       "\n",
       "    .dataframe thead th {\n",
       "        text-align: right;\n",
       "    }\n",
       "</style>\n",
       "<table border=\"1\" class=\"dataframe\">\n",
       "  <thead>\n",
       "    <tr style=\"text-align: right;\">\n",
       "      <th></th>\n",
       "      <th>gender</th>\n",
       "      <th>race/ethnicity</th>\n",
       "      <th>parental level of education</th>\n",
       "      <th>lunch</th>\n",
       "      <th>test preparation course</th>\n",
       "      <th>math score</th>\n",
       "      <th>reading score</th>\n",
       "      <th>writing score</th>\n",
       "    </tr>\n",
       "  </thead>\n",
       "  <tbody>\n",
       "    <tr>\n",
       "      <th>0</th>\n",
       "      <td>female</td>\n",
       "      <td>group B</td>\n",
       "      <td>bachelor's degree</td>\n",
       "      <td>standard</td>\n",
       "      <td>none</td>\n",
       "      <td>72</td>\n",
       "      <td>72</td>\n",
       "      <td>74</td>\n",
       "    </tr>\n",
       "    <tr>\n",
       "      <th>1</th>\n",
       "      <td>female</td>\n",
       "      <td>group C</td>\n",
       "      <td>some college</td>\n",
       "      <td>standard</td>\n",
       "      <td>completed</td>\n",
       "      <td>69</td>\n",
       "      <td>90</td>\n",
       "      <td>88</td>\n",
       "    </tr>\n",
       "    <tr>\n",
       "      <th>2</th>\n",
       "      <td>female</td>\n",
       "      <td>group B</td>\n",
       "      <td>master's degree</td>\n",
       "      <td>standard</td>\n",
       "      <td>none</td>\n",
       "      <td>90</td>\n",
       "      <td>95</td>\n",
       "      <td>93</td>\n",
       "    </tr>\n",
       "    <tr>\n",
       "      <th>3</th>\n",
       "      <td>male</td>\n",
       "      <td>group A</td>\n",
       "      <td>associate's degree</td>\n",
       "      <td>free/reduced</td>\n",
       "      <td>none</td>\n",
       "      <td>47</td>\n",
       "      <td>57</td>\n",
       "      <td>44</td>\n",
       "    </tr>\n",
       "    <tr>\n",
       "      <th>4</th>\n",
       "      <td>male</td>\n",
       "      <td>group C</td>\n",
       "      <td>some college</td>\n",
       "      <td>standard</td>\n",
       "      <td>none</td>\n",
       "      <td>76</td>\n",
       "      <td>78</td>\n",
       "      <td>75</td>\n",
       "    </tr>\n",
       "  </tbody>\n",
       "</table>\n",
       "</div>"
      ],
      "text/plain": [
       "   gender race/ethnicity parental level of education         lunch  \\\n",
       "0  female        group B           bachelor's degree      standard   \n",
       "1  female        group C                some college      standard   \n",
       "2  female        group B             master's degree      standard   \n",
       "3    male        group A          associate's degree  free/reduced   \n",
       "4    male        group C                some college      standard   \n",
       "\n",
       "  test preparation course  math score  reading score  writing score  \n",
       "0                    none          72             72             74  \n",
       "1               completed          69             90             88  \n",
       "2                    none          90             95             93  \n",
       "3                    none          47             57             44  \n",
       "4                    none          76             78             75  "
      ]
     },
     "execution_count": 3,
     "metadata": {},
     "output_type": "execute_result"
    }
   ],
   "source": [
    "df.head()"
   ]
  },
  {
   "cell_type": "code",
   "execution_count": 4,
   "id": "f1d4e74a",
   "metadata": {},
   "outputs": [
    {
     "data": {
      "text/html": [
       "<div>\n",
       "<style scoped>\n",
       "    .dataframe tbody tr th:only-of-type {\n",
       "        vertical-align: middle;\n",
       "    }\n",
       "\n",
       "    .dataframe tbody tr th {\n",
       "        vertical-align: top;\n",
       "    }\n",
       "\n",
       "    .dataframe thead th {\n",
       "        text-align: right;\n",
       "    }\n",
       "</style>\n",
       "<table border=\"1\" class=\"dataframe\">\n",
       "  <thead>\n",
       "    <tr style=\"text-align: right;\">\n",
       "      <th></th>\n",
       "      <th>gender</th>\n",
       "      <th>race/ethnicity</th>\n",
       "      <th>parental level of education</th>\n",
       "      <th>lunch</th>\n",
       "      <th>test preparation course</th>\n",
       "      <th>math score</th>\n",
       "      <th>reading score</th>\n",
       "      <th>writing score</th>\n",
       "    </tr>\n",
       "  </thead>\n",
       "  <tbody>\n",
       "    <tr>\n",
       "      <th>995</th>\n",
       "      <td>female</td>\n",
       "      <td>group E</td>\n",
       "      <td>master's degree</td>\n",
       "      <td>standard</td>\n",
       "      <td>completed</td>\n",
       "      <td>88</td>\n",
       "      <td>99</td>\n",
       "      <td>95</td>\n",
       "    </tr>\n",
       "    <tr>\n",
       "      <th>996</th>\n",
       "      <td>male</td>\n",
       "      <td>group C</td>\n",
       "      <td>high school</td>\n",
       "      <td>free/reduced</td>\n",
       "      <td>none</td>\n",
       "      <td>62</td>\n",
       "      <td>55</td>\n",
       "      <td>55</td>\n",
       "    </tr>\n",
       "    <tr>\n",
       "      <th>997</th>\n",
       "      <td>female</td>\n",
       "      <td>group C</td>\n",
       "      <td>high school</td>\n",
       "      <td>free/reduced</td>\n",
       "      <td>completed</td>\n",
       "      <td>59</td>\n",
       "      <td>71</td>\n",
       "      <td>65</td>\n",
       "    </tr>\n",
       "    <tr>\n",
       "      <th>998</th>\n",
       "      <td>female</td>\n",
       "      <td>group D</td>\n",
       "      <td>some college</td>\n",
       "      <td>standard</td>\n",
       "      <td>completed</td>\n",
       "      <td>68</td>\n",
       "      <td>78</td>\n",
       "      <td>77</td>\n",
       "    </tr>\n",
       "    <tr>\n",
       "      <th>999</th>\n",
       "      <td>female</td>\n",
       "      <td>group D</td>\n",
       "      <td>some college</td>\n",
       "      <td>free/reduced</td>\n",
       "      <td>none</td>\n",
       "      <td>77</td>\n",
       "      <td>86</td>\n",
       "      <td>86</td>\n",
       "    </tr>\n",
       "  </tbody>\n",
       "</table>\n",
       "</div>"
      ],
      "text/plain": [
       "     gender race/ethnicity parental level of education         lunch  \\\n",
       "995  female        group E             master's degree      standard   \n",
       "996    male        group C                 high school  free/reduced   \n",
       "997  female        group C                 high school  free/reduced   \n",
       "998  female        group D                some college      standard   \n",
       "999  female        group D                some college  free/reduced   \n",
       "\n",
       "    test preparation course  math score  reading score  writing score  \n",
       "995               completed          88             99             95  \n",
       "996                    none          62             55             55  \n",
       "997               completed          59             71             65  \n",
       "998               completed          68             78             77  \n",
       "999                    none          77             86             86  "
      ]
     },
     "execution_count": 4,
     "metadata": {},
     "output_type": "execute_result"
    }
   ],
   "source": [
    "df.tail()"
   ]
  },
  {
   "cell_type": "code",
   "execution_count": 5,
   "id": "7492caee",
   "metadata": {},
   "outputs": [],
   "source": [
    "categorical_cols = df.select_dtypes(include = 'object').columns"
   ]
  },
  {
   "cell_type": "code",
   "execution_count": 6,
   "id": "933bc4ab",
   "metadata": {},
   "outputs": [
    {
     "data": {
      "text/plain": [
       "Index(['gender', 'race/ethnicity', 'parental level of education', 'lunch',\n",
       "       'test preparation course'],\n",
       "      dtype='object')"
      ]
     },
     "execution_count": 6,
     "metadata": {},
     "output_type": "execute_result"
    }
   ],
   "source": [
    "categorical_cols"
   ]
  },
  {
   "cell_type": "code",
   "execution_count": 7,
   "id": "653c1aa2",
   "metadata": {},
   "outputs": [],
   "source": [
    "# c_cols = df.iloc[:,0:5].columns"
   ]
  },
  {
   "cell_type": "code",
   "execution_count": 8,
   "id": "45ab2ed6",
   "metadata": {},
   "outputs": [],
   "source": [
    "# c_cols"
   ]
  },
  {
   "cell_type": "code",
   "execution_count": 9,
   "id": "806b423c",
   "metadata": {},
   "outputs": [
    {
     "name": "stdout",
     "output_type": "stream",
     "text": [
      "['female' 'male']\n",
      "['group B' 'group C' 'group A' 'group D' 'group E']\n",
      "[\"bachelor's degree\" 'some college' \"master's degree\" \"associate's degree\"\n",
      " 'high school' 'some high school']\n",
      "['standard' 'free/reduced']\n",
      "['none' 'completed']\n"
     ]
    }
   ],
   "source": [
    "for i in categorical_cols:\n",
    "    print(df[i].unique())"
   ]
  },
  {
   "cell_type": "code",
   "execution_count": 59,
   "id": "f32e5389",
   "metadata": {},
   "outputs": [
    {
     "data": {
      "text/html": [
       "<div>\n",
       "<style scoped>\n",
       "    .dataframe tbody tr th:only-of-type {\n",
       "        vertical-align: middle;\n",
       "    }\n",
       "\n",
       "    .dataframe tbody tr th {\n",
       "        vertical-align: top;\n",
       "    }\n",
       "\n",
       "    .dataframe thead th {\n",
       "        text-align: right;\n",
       "    }\n",
       "</style>\n",
       "<table border=\"1\" class=\"dataframe\">\n",
       "  <thead>\n",
       "    <tr style=\"text-align: right;\">\n",
       "      <th></th>\n",
       "      <th>gender</th>\n",
       "      <th>race/ethnicity</th>\n",
       "      <th>parental level of education</th>\n",
       "      <th>math score</th>\n",
       "      <th>reading score</th>\n",
       "      <th>writing score</th>\n",
       "      <th>average_score</th>\n",
       "      <th>lunch_standard</th>\n",
       "      <th>test preparation course_none</th>\n",
       "    </tr>\n",
       "  </thead>\n",
       "  <tbody>\n",
       "    <tr>\n",
       "      <th>0</th>\n",
       "      <td>0</td>\n",
       "      <td>1</td>\n",
       "      <td>0</td>\n",
       "      <td>72</td>\n",
       "      <td>72</td>\n",
       "      <td>74</td>\n",
       "      <td>72.666667</td>\n",
       "      <td>1</td>\n",
       "      <td>1</td>\n",
       "    </tr>\n",
       "    <tr>\n",
       "      <th>1</th>\n",
       "      <td>0</td>\n",
       "      <td>2</td>\n",
       "      <td>1</td>\n",
       "      <td>69</td>\n",
       "      <td>90</td>\n",
       "      <td>88</td>\n",
       "      <td>82.333333</td>\n",
       "      <td>1</td>\n",
       "      <td>0</td>\n",
       "    </tr>\n",
       "    <tr>\n",
       "      <th>2</th>\n",
       "      <td>0</td>\n",
       "      <td>1</td>\n",
       "      <td>2</td>\n",
       "      <td>90</td>\n",
       "      <td>95</td>\n",
       "      <td>93</td>\n",
       "      <td>92.666667</td>\n",
       "      <td>1</td>\n",
       "      <td>1</td>\n",
       "    </tr>\n",
       "    <tr>\n",
       "      <th>3</th>\n",
       "      <td>1</td>\n",
       "      <td>0</td>\n",
       "      <td>3</td>\n",
       "      <td>47</td>\n",
       "      <td>57</td>\n",
       "      <td>44</td>\n",
       "      <td>49.333333</td>\n",
       "      <td>0</td>\n",
       "      <td>1</td>\n",
       "    </tr>\n",
       "    <tr>\n",
       "      <th>4</th>\n",
       "      <td>1</td>\n",
       "      <td>2</td>\n",
       "      <td>1</td>\n",
       "      <td>76</td>\n",
       "      <td>78</td>\n",
       "      <td>75</td>\n",
       "      <td>76.333333</td>\n",
       "      <td>1</td>\n",
       "      <td>1</td>\n",
       "    </tr>\n",
       "  </tbody>\n",
       "</table>\n",
       "</div>"
      ],
      "text/plain": [
       "   gender  race/ethnicity  parental level of education  math score  \\\n",
       "0       0               1                            0          72   \n",
       "1       0               2                            1          69   \n",
       "2       0               1                            2          90   \n",
       "3       1               0                            3          47   \n",
       "4       1               2                            1          76   \n",
       "\n",
       "   reading score  writing score  average_score  lunch_standard  \\\n",
       "0             72             74      72.666667               1   \n",
       "1             90             88      82.333333               1   \n",
       "2             95             93      92.666667               1   \n",
       "3             57             44      49.333333               0   \n",
       "4             78             75      76.333333               1   \n",
       "\n",
       "   test preparation course_none  \n",
       "0                             1  \n",
       "1                             0  \n",
       "2                             1  \n",
       "3                             1  \n",
       "4                             1  "
      ]
     },
     "execution_count": 59,
     "metadata": {},
     "output_type": "execute_result"
    }
   ],
   "source": [
    "df.head()"
   ]
  },
  {
   "cell_type": "code",
   "execution_count": 10,
   "id": "ac481843",
   "metadata": {},
   "outputs": [
    {
     "data": {
      "text/plain": [
       "gender                         0\n",
       "race/ethnicity                 0\n",
       "parental level of education    0\n",
       "lunch                          0\n",
       "test preparation course        0\n",
       "math score                     0\n",
       "reading score                  0\n",
       "writing score                  0\n",
       "dtype: int64"
      ]
     },
     "execution_count": 10,
     "metadata": {},
     "output_type": "execute_result"
    }
   ],
   "source": [
    "df.isnull().sum()"
   ]
  },
  {
   "cell_type": "code",
   "execution_count": 11,
   "id": "d18a88e1",
   "metadata": {},
   "outputs": [
    {
     "data": {
      "text/plain": [
       "<AxesSubplot: xlabel='gender', ylabel='count'>"
      ]
     },
     "execution_count": 11,
     "metadata": {},
     "output_type": "execute_result"
    },
    {
     "data": {
      "image/png": "[encoded data removed]",
      "text/plain": [
       "<Figure size 640x480 with 1 Axes>"
      ]
     },
     "metadata": {},
     "output_type": "display_data"
    }
   ],
   "source": [
    "sns.countplot(x=df['gender'])"
   ]
  },
  {
   "cell_type": "markdown",
   "id": "81eb4dcd",
   "metadata": {},
   "source": [
    "# Checking whether it is balanced or not, It is balanced"
   ]
  },
  {
   "cell_type": "markdown",
   "id": "a5858998",
   "metadata": {},
   "source": [
    "# Now, check how many student take preparatory classes"
   ]
  },
  {
   "cell_type": "code",
   "execution_count": 12,
   "id": "96971eb5",
   "metadata": {},
   "outputs": [],
   "source": [
    "count_test = df['test preparation course'].value_counts()\n",
    "labels = df['test preparation course'].value_counts().index"
   ]
  },
  {
   "cell_type": "code",
   "execution_count": 13,
   "id": "38570321",
   "metadata": {},
   "outputs": [
    {
     "data": {
      "text/plain": [
       "none         642\n",
       "completed    358\n",
       "Name: test preparation course, dtype: int64"
      ]
     },
     "execution_count": 13,
     "metadata": {},
     "output_type": "execute_result"
    }
   ],
   "source": [
    "count_test"
   ]
  },
  {
   "cell_type": "code",
   "execution_count": 14,
   "id": "1718e03e",
   "metadata": {},
   "outputs": [
    {
     "data": {
      "text/plain": [
       "Index(['none', 'completed'], dtype='object')"
      ]
     },
     "execution_count": 14,
     "metadata": {},
     "output_type": "execute_result"
    }
   ],
   "source": [
    "labels"
   ]
  },
  {
   "cell_type": "code",
   "execution_count": 15,
   "id": "0ef831d6",
   "metadata": {},
   "outputs": [
    {
     "data": {
      "image/png": "[encoded data removed]",
      "text/plain": [
       "<Figure size 600x600 with 1 Axes>"
      ]
     },
     "metadata": {},
     "output_type": "display_data"
    }
   ],
   "source": [
    "plt.figure(figsize = (6,6))\n",
    "plt.pie(count_test, labels = labels, autopct='%1.1f%%') # autopct : for showing data in %age\n",
    "plt.legend(labels)\n",
    "plt.title('%age of students taken preparatory classes')\n",
    "plt.show()"
   ]
  },
  {
   "cell_type": "markdown",
   "id": "c259b84f",
   "metadata": {},
   "source": [
    "# To make a good analysis let's make an 'Avg_Score' column "
   ]
  },
  {
   "cell_type": "code",
   "execution_count": 16,
   "id": "754e5cd9",
   "metadata": {},
   "outputs": [],
   "source": [
    "df['average_score'] = df.iloc[:,5:8].mean(axis = 1)"
   ]
  },
  {
   "cell_type": "code",
   "execution_count": 17,
   "id": "f37811f5",
   "metadata": {},
   "outputs": [
    {
     "data": {
      "text/html": [
       "<div>\n",
       "<style scoped>\n",
       "    .dataframe tbody tr th:only-of-type {\n",
       "        vertical-align: middle;\n",
       "    }\n",
       "\n",
       "    .dataframe tbody tr th {\n",
       "        vertical-align: top;\n",
       "    }\n",
       "\n",
       "    .dataframe thead th {\n",
       "        text-align: right;\n",
       "    }\n",
       "</style>\n",
       "<table border=\"1\" class=\"dataframe\">\n",
       "  <thead>\n",
       "    <tr style=\"text-align: right;\">\n",
       "      <th></th>\n",
       "      <th>gender</th>\n",
       "      <th>race/ethnicity</th>\n",
       "      <th>parental level of education</th>\n",
       "      <th>lunch</th>\n",
       "      <th>test preparation course</th>\n",
       "      <th>math score</th>\n",
       "      <th>reading score</th>\n",
       "      <th>writing score</th>\n",
       "      <th>average_score</th>\n",
       "    </tr>\n",
       "  </thead>\n",
       "  <tbody>\n",
       "    <tr>\n",
       "      <th>0</th>\n",
       "      <td>female</td>\n",
       "      <td>group B</td>\n",
       "      <td>bachelor's degree</td>\n",
       "      <td>standard</td>\n",
       "      <td>none</td>\n",
       "      <td>72</td>\n",
       "      <td>72</td>\n",
       "      <td>74</td>\n",
       "      <td>72.666667</td>\n",
       "    </tr>\n",
       "    <tr>\n",
       "      <th>1</th>\n",
       "      <td>female</td>\n",
       "      <td>group C</td>\n",
       "      <td>some college</td>\n",
       "      <td>standard</td>\n",
       "      <td>completed</td>\n",
       "      <td>69</td>\n",
       "      <td>90</td>\n",
       "      <td>88</td>\n",
       "      <td>82.333333</td>\n",
       "    </tr>\n",
       "    <tr>\n",
       "      <th>2</th>\n",
       "      <td>female</td>\n",
       "      <td>group B</td>\n",
       "      <td>master's degree</td>\n",
       "      <td>standard</td>\n",
       "      <td>none</td>\n",
       "      <td>90</td>\n",
       "      <td>95</td>\n",
       "      <td>93</td>\n",
       "      <td>92.666667</td>\n",
       "    </tr>\n",
       "    <tr>\n",
       "      <th>3</th>\n",
       "      <td>male</td>\n",
       "      <td>group A</td>\n",
       "      <td>associate's degree</td>\n",
       "      <td>free/reduced</td>\n",
       "      <td>none</td>\n",
       "      <td>47</td>\n",
       "      <td>57</td>\n",
       "      <td>44</td>\n",
       "      <td>49.333333</td>\n",
       "    </tr>\n",
       "    <tr>\n",
       "      <th>4</th>\n",
       "      <td>male</td>\n",
       "      <td>group C</td>\n",
       "      <td>some college</td>\n",
       "      <td>standard</td>\n",
       "      <td>none</td>\n",
       "      <td>76</td>\n",
       "      <td>78</td>\n",
       "      <td>75</td>\n",
       "      <td>76.333333</td>\n",
       "    </tr>\n",
       "  </tbody>\n",
       "</table>\n",
       "</div>"
      ],
      "text/plain": [
       "   gender race/ethnicity parental level of education         lunch  \\\n",
       "0  female        group B           bachelor's degree      standard   \n",
       "1  female        group C                some college      standard   \n",
       "2  female        group B             master's degree      standard   \n",
       "3    male        group A          associate's degree  free/reduced   \n",
       "4    male        group C                some college      standard   \n",
       "\n",
       "  test preparation course  math score  reading score  writing score  \\\n",
       "0                    none          72             72             74   \n",
       "1               completed          69             90             88   \n",
       "2                    none          90             95             93   \n",
       "3                    none          47             57             44   \n",
       "4                    none          76             78             75   \n",
       "\n",
       "   average_score  \n",
       "0      72.666667  \n",
       "1      82.333333  \n",
       "2      92.666667  \n",
       "3      49.333333  \n",
       "4      76.333333  "
      ]
     },
     "execution_count": 17,
     "metadata": {},
     "output_type": "execute_result"
    }
   ],
   "source": [
    "df.head()"
   ]
  },
  {
   "cell_type": "markdown",
   "id": "35709a43",
   "metadata": {},
   "source": [
    "# Let's check which student has max average score: male or female "
   ]
  },
  {
   "cell_type": "code",
   "execution_count": 18,
   "id": "691a1b60",
   "metadata": {},
   "outputs": [
    {
     "data": {
      "text/plain": [
       "<AxesSubplot: xlabel='average_score', ylabel='math score'>"
      ]
     },
     "execution_count": 18,
     "metadata": {},
     "output_type": "execute_result"
    },
    {
     "data": {
      "image/png": "[encoded data removed]",
      "text/plain": [
       "<Figure size 640x480 with 1 Axes>"
      ]
     },
     "metadata": {},
     "output_type": "display_data"
    }
   ],
   "source": [
    "sns.scatterplot(x=df['average_score'], y=df['math score'], hue=df['gender'])"
   ]
  },
  {
   "cell_type": "code",
   "execution_count": null,
   "id": "764b0f34",
   "metadata": {},
   "outputs": [],
   "source": []
  },
  {
   "cell_type": "code",
   "execution_count": null,
   "id": "ffee8d53",
   "metadata": {},
   "outputs": [],
   "source": []
  },
  {
   "cell_type": "code",
   "execution_count": null,
   "id": "4b20566c",
   "metadata": {},
   "outputs": [],
   "source": []
  },
  {
   "cell_type": "code",
   "execution_count": 19,
   "id": "226fd52f",
   "metadata": {},
   "outputs": [],
   "source": [
    "# df.()"
   ]
  },
  {
   "cell_type": "markdown",
   "id": "a256f577",
   "metadata": {},
   "source": [
    "# One Hot Encoding:"
   ]
  },
  {
   "cell_type": "code",
   "execution_count": 20,
   "id": "10f5a185",
   "metadata": {},
   "outputs": [],
   "source": [
    "gender = {\n",
    "    'male':1,\n",
    "    'female':0\n",
    "}"
   ]
  },
  {
   "cell_type": "code",
   "execution_count": 21,
   "id": "442d3183",
   "metadata": {},
   "outputs": [],
   "source": [
    "race = {\n",
    "    'group A' :0,\n",
    "    'group B' :1,\n",
    "    'group C' :2,\n",
    "    'group D' :3,\n",
    "    'group E' :4\n",
    "}"
   ]
  },
  {
   "cell_type": "code",
   "execution_count": 22,
   "id": "32c28801",
   "metadata": {},
   "outputs": [],
   "source": [
    "df['gender']=df['gender'].map(gender)"
   ]
  },
  {
   "cell_type": "code",
   "execution_count": 23,
   "id": "86113495",
   "metadata": {},
   "outputs": [],
   "source": [
    "df['race/ethnicity'] = df['race/ethnicity'].map(race)"
   ]
  },
  {
   "cell_type": "code",
   "execution_count": 24,
   "id": "da45c1e8",
   "metadata": {},
   "outputs": [
    {
     "data": {
      "text/html": [
       "<div>\n",
       "<style scoped>\n",
       "    .dataframe tbody tr th:only-of-type {\n",
       "        vertical-align: middle;\n",
       "    }\n",
       "\n",
       "    .dataframe tbody tr th {\n",
       "        vertical-align: top;\n",
       "    }\n",
       "\n",
       "    .dataframe thead th {\n",
       "        text-align: right;\n",
       "    }\n",
       "</style>\n",
       "<table border=\"1\" class=\"dataframe\">\n",
       "  <thead>\n",
       "    <tr style=\"text-align: right;\">\n",
       "      <th></th>\n",
       "      <th>gender</th>\n",
       "      <th>race/ethnicity</th>\n",
       "      <th>parental level of education</th>\n",
       "      <th>lunch</th>\n",
       "      <th>test preparation course</th>\n",
       "      <th>math score</th>\n",
       "      <th>reading score</th>\n",
       "      <th>writing score</th>\n",
       "      <th>average_score</th>\n",
       "    </tr>\n",
       "  </thead>\n",
       "  <tbody>\n",
       "    <tr>\n",
       "      <th>0</th>\n",
       "      <td>0</td>\n",
       "      <td>1</td>\n",
       "      <td>bachelor's degree</td>\n",
       "      <td>standard</td>\n",
       "      <td>none</td>\n",
       "      <td>72</td>\n",
       "      <td>72</td>\n",
       "      <td>74</td>\n",
       "      <td>72.666667</td>\n",
       "    </tr>\n",
       "    <tr>\n",
       "      <th>1</th>\n",
       "      <td>0</td>\n",
       "      <td>2</td>\n",
       "      <td>some college</td>\n",
       "      <td>standard</td>\n",
       "      <td>completed</td>\n",
       "      <td>69</td>\n",
       "      <td>90</td>\n",
       "      <td>88</td>\n",
       "      <td>82.333333</td>\n",
       "    </tr>\n",
       "    <tr>\n",
       "      <th>2</th>\n",
       "      <td>0</td>\n",
       "      <td>1</td>\n",
       "      <td>master's degree</td>\n",
       "      <td>standard</td>\n",
       "      <td>none</td>\n",
       "      <td>90</td>\n",
       "      <td>95</td>\n",
       "      <td>93</td>\n",
       "      <td>92.666667</td>\n",
       "    </tr>\n",
       "    <tr>\n",
       "      <th>3</th>\n",
       "      <td>1</td>\n",
       "      <td>0</td>\n",
       "      <td>associate's degree</td>\n",
       "      <td>free/reduced</td>\n",
       "      <td>none</td>\n",
       "      <td>47</td>\n",
       "      <td>57</td>\n",
       "      <td>44</td>\n",
       "      <td>49.333333</td>\n",
       "    </tr>\n",
       "    <tr>\n",
       "      <th>4</th>\n",
       "      <td>1</td>\n",
       "      <td>2</td>\n",
       "      <td>some college</td>\n",
       "      <td>standard</td>\n",
       "      <td>none</td>\n",
       "      <td>76</td>\n",
       "      <td>78</td>\n",
       "      <td>75</td>\n",
       "      <td>76.333333</td>\n",
       "    </tr>\n",
       "  </tbody>\n",
       "</table>\n",
       "</div>"
      ],
      "text/plain": [
       "   gender  race/ethnicity parental level of education         lunch  \\\n",
       "0       0               1           bachelor's degree      standard   \n",
       "1       0               2                some college      standard   \n",
       "2       0               1             master's degree      standard   \n",
       "3       1               0          associate's degree  free/reduced   \n",
       "4       1               2                some college      standard   \n",
       "\n",
       "  test preparation course  math score  reading score  writing score  \\\n",
       "0                    none          72             72             74   \n",
       "1               completed          69             90             88   \n",
       "2                    none          90             95             93   \n",
       "3                    none          47             57             44   \n",
       "4                    none          76             78             75   \n",
       "\n",
       "   average_score  \n",
       "0      72.666667  \n",
       "1      82.333333  \n",
       "2      92.666667  \n",
       "3      49.333333  \n",
       "4      76.333333  "
      ]
     },
     "execution_count": 24,
     "metadata": {},
     "output_type": "execute_result"
    }
   ],
   "source": [
    "df.head()"
   ]
  },
  {
   "cell_type": "markdown",
   "id": "e00cbf40",
   "metadata": {},
   "source": [
    "# Let's work on 'parental level of education ' column"
   ]
  },
  {
   "cell_type": "code",
   "execution_count": 25,
   "id": "f112e27b",
   "metadata": {},
   "outputs": [],
   "source": [
    "level = {\n",
    "    \"bachelor's degree\" :0,\n",
    "    \"some college\" : 1,\n",
    "    \"master's degree\" :2,\n",
    "    \"associate's degree\" :3,\n",
    "    \"high school\" : 4,\n",
    "    \"some high school\" : 5\n",
    "}"
   ]
  },
  {
   "cell_type": "code",
   "execution_count": 26,
   "id": "1a2b3ba6",
   "metadata": {},
   "outputs": [],
   "source": [
    "df['parental level of education'] = df['parental level of education'].map(level)"
   ]
  },
  {
   "cell_type": "code",
   "execution_count": 27,
   "id": "225dece7",
   "metadata": {},
   "outputs": [],
   "source": [
    "df = pd.get_dummies(df,drop_first=True)"
   ]
  },
  {
   "cell_type": "code",
   "execution_count": 28,
   "id": "b01ed532",
   "metadata": {},
   "outputs": [
    {
     "data": {
      "text/html": [
       "<div>\n",
       "<style scoped>\n",
       "    .dataframe tbody tr th:only-of-type {\n",
       "        vertical-align: middle;\n",
       "    }\n",
       "\n",
       "    .dataframe tbody tr th {\n",
       "        vertical-align: top;\n",
       "    }\n",
       "\n",
       "    .dataframe thead th {\n",
       "        text-align: right;\n",
       "    }\n",
       "</style>\n",
       "<table border=\"1\" class=\"dataframe\">\n",
       "  <thead>\n",
       "    <tr style=\"text-align: right;\">\n",
       "      <th></th>\n",
       "      <th>gender</th>\n",
       "      <th>race/ethnicity</th>\n",
       "      <th>parental level of education</th>\n",
       "      <th>math score</th>\n",
       "      <th>reading score</th>\n",
       "      <th>writing score</th>\n",
       "      <th>average_score</th>\n",
       "      <th>lunch_standard</th>\n",
       "      <th>test preparation course_none</th>\n",
       "    </tr>\n",
       "  </thead>\n",
       "  <tbody>\n",
       "    <tr>\n",
       "      <th>0</th>\n",
       "      <td>0</td>\n",
       "      <td>1</td>\n",
       "      <td>0</td>\n",
       "      <td>72</td>\n",
       "      <td>72</td>\n",
       "      <td>74</td>\n",
       "      <td>72.666667</td>\n",
       "      <td>1</td>\n",
       "      <td>1</td>\n",
       "    </tr>\n",
       "    <tr>\n",
       "      <th>1</th>\n",
       "      <td>0</td>\n",
       "      <td>2</td>\n",
       "      <td>1</td>\n",
       "      <td>69</td>\n",
       "      <td>90</td>\n",
       "      <td>88</td>\n",
       "      <td>82.333333</td>\n",
       "      <td>1</td>\n",
       "      <td>0</td>\n",
       "    </tr>\n",
       "    <tr>\n",
       "      <th>2</th>\n",
       "      <td>0</td>\n",
       "      <td>1</td>\n",
       "      <td>2</td>\n",
       "      <td>90</td>\n",
       "      <td>95</td>\n",
       "      <td>93</td>\n",
       "      <td>92.666667</td>\n",
       "      <td>1</td>\n",
       "      <td>1</td>\n",
       "    </tr>\n",
       "    <tr>\n",
       "      <th>3</th>\n",
       "      <td>1</td>\n",
       "      <td>0</td>\n",
       "      <td>3</td>\n",
       "      <td>47</td>\n",
       "      <td>57</td>\n",
       "      <td>44</td>\n",
       "      <td>49.333333</td>\n",
       "      <td>0</td>\n",
       "      <td>1</td>\n",
       "    </tr>\n",
       "    <tr>\n",
       "      <th>4</th>\n",
       "      <td>1</td>\n",
       "      <td>2</td>\n",
       "      <td>1</td>\n",
       "      <td>76</td>\n",
       "      <td>78</td>\n",
       "      <td>75</td>\n",
       "      <td>76.333333</td>\n",
       "      <td>1</td>\n",
       "      <td>1</td>\n",
       "    </tr>\n",
       "  </tbody>\n",
       "</table>\n",
       "</div>"
      ],
      "text/plain": [
       "   gender  race/ethnicity  parental level of education  math score  \\\n",
       "0       0               1                            0          72   \n",
       "1       0               2                            1          69   \n",
       "2       0               1                            2          90   \n",
       "3       1               0                            3          47   \n",
       "4       1               2                            1          76   \n",
       "\n",
       "   reading score  writing score  average_score  lunch_standard  \\\n",
       "0             72             74      72.666667               1   \n",
       "1             90             88      82.333333               1   \n",
       "2             95             93      92.666667               1   \n",
       "3             57             44      49.333333               0   \n",
       "4             78             75      76.333333               1   \n",
       "\n",
       "   test preparation course_none  \n",
       "0                             1  \n",
       "1                             0  \n",
       "2                             1  \n",
       "3                             1  \n",
       "4                             1  "
      ]
     },
     "execution_count": 28,
     "metadata": {},
     "output_type": "execute_result"
    }
   ],
   "source": [
    "df.head()"
   ]
  },
  {
   "cell_type": "code",
   "execution_count": 29,
   "id": "5e06fe80",
   "metadata": {},
   "outputs": [],
   "source": [
    "x = df.drop(columns = 'average_score').values"
   ]
  },
  {
   "cell_type": "code",
   "execution_count": 30,
   "id": "bf71ae80",
   "metadata": {},
   "outputs": [
    {
     "data": {
      "text/plain": [
       "array([[ 0,  1,  0, ..., 74,  1,  1],\n",
       "       [ 0,  2,  1, ..., 88,  1,  0],\n",
       "       [ 0,  1,  2, ..., 93,  1,  1],\n",
       "       ...,\n",
       "       [ 0,  2,  4, ..., 65,  0,  0],\n",
       "       [ 0,  3,  1, ..., 77,  1,  0],\n",
       "       [ 0,  3,  1, ..., 86,  0,  1]], dtype=int64)"
      ]
     },
     "execution_count": 30,
     "metadata": {},
     "output_type": "execute_result"
    }
   ],
   "source": [
    "x"
   ]
  },
  {
   "cell_type": "code",
   "execution_count": 31,
   "id": "01c0354e",
   "metadata": {},
   "outputs": [],
   "source": [
    "y = df['average_score'].values"
   ]
  },
  {
   "cell_type": "code",
   "execution_count": 32,
   "id": "194d9f95",
   "metadata": {},
   "outputs": [
    {
     "data": {
      "text/plain": [
       "array([ 72.66666667,  82.33333333,  92.66666667,  49.33333333,\n",
       "        76.33333333,  77.33333333,  91.66666667,  40.66666667,\n",
       "        65.        ,  49.33333333,  54.66666667,  45.        ,\n",
       "        73.        ,  73.33333333,  53.66666667,  74.        ,\n",
       "        87.66666667,  26.        ,  44.66666667,  57.66666667,\n",
       "        66.        ,  70.        ,  50.33333333,  71.66666667,\n",
       "        75.        ,  73.        ,  59.33333333,  70.33333333,\n",
       "        68.33333333,  69.        ,  72.33333333,  63.        ,\n",
       "        64.33333333,  40.        ,  88.66666667,  80.33333333,\n",
       "        79.33333333,  57.66666667,  84.33333333,  56.66666667,\n",
       "        56.66666667,  66.33333333,  58.66666667,  63.33333333,\n",
       "        53.33333333,  58.66666667,  60.66666667,  71.        ,\n",
       "        69.        ,  82.66666667,  52.        ,  71.33333333,\n",
       "        46.33333333,  80.33333333,  80.66666667,  39.        ,\n",
       "        84.33333333,  52.        ,  58.33333333,   9.        ,\n",
       "        75.        ,  37.33333333,  59.33333333,  73.33333333,\n",
       "        58.66666667,  64.        ,  39.66666667,  68.66666667,\n",
       "        58.33333333,  53.33333333,  64.66666667,  60.33333333,\n",
       "        46.66666667,  58.        ,  46.33333333,  41.        ,\n",
       "        26.        ,  79.66666667,  69.        ,  66.        ,\n",
       "        48.66666667,  46.33333333,  50.33333333,  66.33333333,\n",
       "        38.33333333,  78.33333333,  82.33333333,  72.        ,\n",
       "        65.        ,  80.33333333,  70.33333333,  32.33333333,\n",
       "        73.66666667,  46.        ,  85.66666667,  80.33333333,\n",
       "        64.33333333,  68.33333333,  62.33333333,  64.66666667,\n",
       "        71.        ,  72.        ,  88.33333333,  50.33333333,\n",
       "        91.33333333,  65.66666667,  95.66666667,  64.33333333,\n",
       "        66.        ,  68.66666667,  88.        ,  55.33333333,\n",
       "        51.33333333,  54.33333333,  99.66666667,  78.33333333,\n",
       "        80.66666667,  79.66666667,  58.33333333,  63.        ,\n",
       "        86.66666667,  90.66666667,  91.33333333,  58.66666667,\n",
       "        78.66666667,  89.33333333,  69.        ,  72.        ,\n",
       "        79.33333333,  50.33333333,  85.        ,  43.33333333,\n",
       "        77.        ,  80.        ,  76.        ,  53.66666667,\n",
       "        48.66666667,  60.33333333,  64.        ,  67.        ,\n",
       "        73.        ,  61.66666667,  50.33333333,  49.        ,\n",
       "        79.66666667,  31.33333333,  82.33333333,  69.        ,\n",
       "        74.66666667,  97.66666667,  66.        ,  70.66666667,\n",
       "        65.        ,  50.        ,  63.33333333,  82.33333333,\n",
       "        72.66666667,  60.        ,  78.        ,  64.        ,\n",
       "        78.        ,  82.66666667,  51.33333333,  51.33333333,\n",
       "        88.        ,  98.66666667,  51.66666667,  70.66666667,\n",
       "        76.33333333,  70.66666667,  73.        ,  86.66666667,\n",
       "        82.        ,  66.66666667,  49.33333333,  86.33333333,\n",
       "        52.66666667,  75.        ,  61.33333333,  99.        ,\n",
       "        68.33333333,  58.66666667,  49.        ,  68.        ,\n",
       "        48.66666667,  65.66666667,  73.66666667,  65.33333333,\n",
       "        48.33333333,  84.        ,  66.66666667,  79.33333333,\n",
       "        64.        ,  67.        ,  79.33333333,  56.        ,\n",
       "        64.33333333,  54.        ,  51.        ,  77.66666667,\n",
       "        79.        ,  74.33333333,  71.66666667,  64.66666667,\n",
       "        47.33333333,  74.33333333,  68.66666667,  79.        ,\n",
       "        77.        ,  61.66666667,  79.33333333,  30.        ,\n",
       "        54.66666667,  55.66666667,  86.33333333,  80.66666667,\n",
       "        85.66666667,  38.33333333,  71.        ,  57.66666667,\n",
       "        66.        ,  81.66666667,  60.66666667,  80.33333333,\n",
       "        63.66666667,  51.66666667,  71.66666667,  53.66666667,\n",
       "        68.        ,  92.33333333,  68.66666667,  43.66666667,\n",
       "        78.66666667,  85.66666667,  83.        ,  77.33333333,\n",
       "        65.33333333,  66.        ,  52.33333333,  81.33333333,\n",
       "        69.        ,  82.        ,  54.33333333,  51.        ,\n",
       "        72.66666667,  77.33333333,  79.66666667,  65.33333333,\n",
       "        63.66666667,  60.33333333,  48.33333333,  79.        ,\n",
       "        66.66666667,  77.33333333,  52.66666667,  68.33333333,\n",
       "        68.33333333,  77.33333333,  74.33333333,  75.66666667,\n",
       "        73.33333333,  78.66666667,  48.33333333,  94.        ,\n",
       "        72.33333333,  47.33333333,  73.        ,  72.66666667,\n",
       "        91.66666667,  72.33333333,  64.33333333,  49.66666667,\n",
       "        52.66666667,  68.66666667,  83.        ,  78.        ,\n",
       "        90.        ,  65.66666667,  77.        ,  62.        ,\n",
       "        49.        ,  46.33333333,  78.66666667,  75.33333333,\n",
       "        43.        ,  81.66666667,  89.        ,  79.33333333,\n",
       "        79.66666667,  76.66666667,  71.33333333,  76.33333333,\n",
       "        60.        ,  71.        ,  78.33333333,  63.        ,\n",
       "        43.33333333,  71.        ,  45.33333333,  84.        ,\n",
       "        80.        ,  54.        ,  77.33333333,  73.33333333,\n",
       "        77.33333333,  68.33333333,  89.        ,  49.        ,\n",
       "        63.66666667,  52.66666667,  76.33333333,  61.        ,\n",
       "        65.33333333,  68.        ,  66.        ,  67.33333333,\n",
       "        83.33333333,  77.66666667,  67.66666667,  61.33333333,\n",
       "        76.66666667,  80.        ,  77.33333333,  49.66666667,\n",
       "        43.33333333,  88.66666667,  61.33333333,  23.33333333,\n",
       "        78.        ,  49.        ,  64.        ,  39.66666667,\n",
       "        57.        ,  83.        ,  90.33333333,  65.        ,\n",
       "        71.66666667,  47.66666667,  29.66666667,  50.        ,\n",
       "        57.        ,  65.66666667,  73.        ,  68.66666667,\n",
       "        73.        ,  75.66666667,  60.        ,  88.66666667,\n",
       "        71.66666667,  79.        ,  62.        ,  58.33333333,\n",
       "        73.66666667,  53.66666667,  66.66666667,  67.66666667,\n",
       "        61.66666667,  59.        ,  60.66666667,  86.33333333,\n",
       "        59.66666667,  82.33333333,  56.        ,  31.        ,\n",
       "        59.        ,  55.66666667,  60.        ,  62.66666667,\n",
       "        55.33333333,  80.66666667,  77.33333333,  62.66666667,\n",
       "        73.33333333,  91.66666667,  67.33333333,  43.33333333,\n",
       "        84.        ,  93.33333333,  77.        ,  64.        ,\n",
       "        83.        ,  94.        ,  77.        ,  44.        ,\n",
       "        41.33333333,  72.66666667,  69.        ,  67.33333333,\n",
       "        63.33333333,  72.66666667,  66.33333333,  74.        ,\n",
       "        70.        ,  55.66666667,  72.        ,  44.66666667,\n",
       "        60.        ,  89.66666667,  64.66666667,  57.66666667,\n",
       "        60.        ,  46.33333333,  56.33333333,  95.66666667,\n",
       "        58.33333333,  68.        ,  64.33333333,  79.66666667,\n",
       "        55.        ,  85.33333333,  71.66666667,  81.66666667,\n",
       "        65.66666667,  65.66666667,  67.33333333,  75.33333333,\n",
       "        71.        ,  71.33333333,  63.        ,  55.66666667,\n",
       "        89.33333333,  59.66666667,  57.33333333,  74.66666667,\n",
       "        38.        ,  63.66666667,  85.        ,  68.33333333,\n",
       "        59.        ,  61.66666667,  63.        ,  67.66666667,\n",
       "        57.33333333,  52.        ,  68.33333333,  50.33333333,\n",
       "        69.        ,  71.33333333,  59.        ,  86.33333333,\n",
       "        75.66666667,  79.66666667,  67.        ,  77.33333333,\n",
       "        78.        ,  72.66666667,  65.        ,  82.33333333,\n",
       "        45.        ,  75.33333333,  78.        ,  96.33333333,\n",
       "        72.        ,  57.33333333,  58.66666667,  46.66666667,\n",
       "        85.66666667,  51.66666667, 100.        ,  68.33333333,\n",
       "        55.33333333,  51.        ,  72.33333333,  86.        ,\n",
       "        65.        ,  87.33333333,  31.66666667,  68.        ,\n",
       "        83.33333333,  80.33333333,  86.        ,  68.66666667,\n",
       "        79.33333333,  62.33333333,  90.33333333,  76.66666667,\n",
       "        68.        ,  73.33333333,  63.        ,  71.33333333,\n",
       "        70.66666667,  55.66666667,  65.66666667,  52.33333333,\n",
       "        51.66666667,  71.66666667,  54.66666667,  69.66666667,\n",
       "        58.        ,  81.        ,  75.33333333,  66.        ,\n",
       "        85.33333333,  86.33333333,  62.        ,  66.        ,\n",
       "        51.33333333,  71.        ,  67.66666667,  73.        ,\n",
       "        78.33333333,  91.        ,  59.33333333,  92.        ,\n",
       "        51.        ,  81.33333333,  68.        ,  56.        ,\n",
       "        78.        ,  88.33333333,  73.33333333,  52.33333333,\n",
       "        54.33333333,  59.        ,  89.33333333,  82.66666667,\n",
       "        82.33333333,  71.        ,  74.        ,  74.66666667,\n",
       "        57.33333333,  87.        ,  61.33333333,  54.33333333,\n",
       "        51.33333333,  62.33333333,  59.        ,  44.        ,\n",
       "        39.        ,  68.66666667,  69.33333333,  51.33333333,\n",
       "        60.33333333,  87.        ,  70.        ,  77.33333333,\n",
       "        56.33333333,  59.66666667,  74.        ,  91.66666667,\n",
       "        70.66666667,  80.33333333,  79.        ,  88.66666667,\n",
       "        64.33333333,  80.33333333,  96.33333333,  67.66666667,\n",
       "        64.33333333,  73.33333333,  73.33333333,  88.33333333,\n",
       "        46.        ,  67.66666667,  46.        ,  34.66666667,\n",
       "        68.66666667,  64.66666667,  64.33333333,  67.        ,\n",
       "        76.        ,  70.33333333,  92.66666667,  74.33333333,\n",
       "        48.33333333,  45.33333333,  97.33333333,  70.        ,\n",
       "        52.66666667,  67.66666667,  72.        ,  93.        ,\n",
       "        57.        ,  60.        ,  75.33333333,  49.33333333,\n",
       "        54.66666667,  87.        ,  54.        ,  60.66666667,\n",
       "        91.33333333,  78.66666667,  71.33333333,  76.        ,\n",
       "        74.33333333,  72.33333333,  67.        ,  56.33333333,\n",
       "        61.        ,  59.66666667,  56.33333333,  61.        ,\n",
       "        66.66666667,  74.33333333,  97.        ,  69.        ,\n",
       "        23.        ,  51.66666667,  73.        ,  76.        ,\n",
       "        59.        ,  29.33333333,  78.        ,  56.        ,\n",
       "        87.66666667,  69.66666667,  83.66666667,  50.66666667,\n",
       "        62.33333333,  62.        ,  64.        ,  61.        ,\n",
       "        91.66666667,  72.        ,  89.33333333,  66.66666667,\n",
       "        40.        ,  83.        ,  86.66666667,  68.66666667,\n",
       "        50.        ,  60.33333333,  53.66666667,  94.        ,\n",
       "        60.33333333,  98.66666667,  67.33333333,  51.66666667,\n",
       "        50.66666667,  50.        ,  67.        ,  68.        ,\n",
       "        73.66666667,  82.66666667,  82.66666667,  69.66666667,\n",
       "        76.        ,  86.66666667,  78.66666667,  74.33333333,\n",
       "        48.        ,  84.        ,  77.33333333,  77.66666667,\n",
       "        65.        ,  75.66666667,  64.66666667,  64.66666667,\n",
       "        52.66666667,  76.33333333,  53.33333333,  74.66666667,\n",
       "        89.66666667,  69.66666667,  77.        ,  65.33333333,\n",
       "        69.33333333,  65.33333333,  53.66666667,  87.33333333,\n",
       "        74.66666667,  67.33333333,  65.        ,  67.        ,\n",
       "        68.66666667,  56.66666667,  69.        ,  83.        ,\n",
       "        69.33333333,  76.66666667,  70.        ,  53.        ,\n",
       "        74.33333333,  77.66666667,  74.66666667,  60.        ,\n",
       "        75.66666667,  76.        ,  78.        ,  61.33333333,\n",
       "        71.        ,  62.66666667,  57.        ,  37.66666667,\n",
       "        65.33333333,  97.66666667,  76.        ,  76.        ,\n",
       "        51.66666667,  88.66666667,  51.66666667,  75.66666667,\n",
       "        73.66666667,  75.66666667,  56.        ,  84.66666667,\n",
       "        82.33333333,  67.        ,  71.33333333,  63.66666667,\n",
       "        80.66666667,  65.33333333,  86.        ,  64.66666667,\n",
       "        62.        ,  66.33333333,  38.66666667,  59.        ,\n",
       "        85.        ,  53.66666667,  89.        ,  83.33333333,\n",
       "        99.        ,  82.        ,  68.        ,  85.66666667,\n",
       "        74.33333333,  97.        ,  75.33333333,  81.33333333,\n",
       "        68.        ,  57.66666667,  84.        ,  46.66666667,\n",
       "        43.66666667,  75.33333333,  72.33333333,  58.66666667,\n",
       "        83.        ,  43.        ,  75.        ,  48.        ,\n",
       "        90.        ,  48.66666667,  56.        ,  61.        ,\n",
       "        85.        ,  64.        ,  75.        ,  58.66666667,\n",
       "        75.        ,  50.        ,  82.33333333,  68.        ,\n",
       "        52.33333333,  75.        ,  71.66666667,  67.        ,\n",
       "        56.33333333,  85.66666667,  69.33333333,  68.33333333,\n",
       "        77.        ,  84.        ,  55.33333333,  90.33333333,\n",
       "        55.        ,  70.        ,  58.66666667,  74.33333333,\n",
       "        63.        ,  53.33333333,  81.66666667,  62.33333333,\n",
       "        60.66666667,  72.66666667,  70.        ,  66.        ,\n",
       "        71.33333333,  58.33333333,  49.66666667,  74.        ,\n",
       "        63.66666667,  73.        ,  63.66666667,  54.        ,\n",
       "        69.33333333,  40.66666667,  77.66666667,  87.        ,\n",
       "        53.        ,  83.66666667,  81.        ,  57.66666667,\n",
       "        83.66666667,  42.33333333,  76.        ,  29.66666667,\n",
       "        64.66666667,  59.33333333,  56.66666667,  65.33333333,\n",
       "        69.66666667,  83.33333333,  48.33333333,  66.        ,\n",
       "        70.        ,  78.33333333,  61.        ,  54.66666667,\n",
       "        69.33333333,  76.33333333,  92.        ,  84.66666667,\n",
       "        75.66666667,  76.66666667,  71.        ,  42.        ,\n",
       "        78.        ,  54.66666667,  39.33333333,  47.        ,\n",
       "        61.66666667,  82.33333333,  78.33333333,  89.        ,\n",
       "        56.        ,  69.        ,  66.66666667,  85.33333333,\n",
       "        89.        ,  87.        ,  50.66666667,  80.        ,\n",
       "        52.66666667,  62.33333333,  64.66666667,  70.        ,\n",
       "        78.66666667,  58.33333333,  59.33333333,  83.        ,\n",
       "        60.66666667,  82.66666667,  51.        ,  66.        ,\n",
       "        64.66666667,  78.66666667,  56.        ,  72.        ,\n",
       "        45.66666667,  57.66666667,  34.33333333,  75.66666667,\n",
       "        56.33333333,  86.33333333,  87.        ,  56.        ,\n",
       "        66.33333333,  74.66666667,  68.33333333,  64.        ,\n",
       "        88.33333333,  70.        ,  60.33333333,  96.66666667,\n",
       "        69.33333333,  75.        ,  49.        ,  77.33333333,\n",
       "        56.        ,  84.66666667,  39.66666667,  74.        ,\n",
       "        93.66666667,  84.        ,  54.66666667,  48.        ,\n",
       "        74.66666667,  50.33333333,  54.66666667,  72.66666667,\n",
       "        81.33333333,  87.33333333,  55.33333333,  70.        ,\n",
       "        82.33333333,  57.33333333,  70.33333333,  71.33333333,\n",
       "        64.33333333,  70.33333333,  69.33333333,  48.33333333,\n",
       "        52.        ,  72.66666667,  96.        ,  61.66666667,\n",
       "        69.33333333,  47.66666667,  87.33333333,  87.33333333,\n",
       "        63.33333333,  79.        ,  63.33333333,  34.66666667,\n",
       "        30.66666667,  73.33333333,  61.33333333,  75.        ,\n",
       "        86.        ,  75.        ,  41.        ,  97.66666667,\n",
       "        78.33333333,  80.66666667,  52.        ,  84.66666667,\n",
       "        71.33333333,  68.        ,  46.66666667,  78.33333333,\n",
       "        59.66666667,  58.33333333,  54.        ,  68.        ,\n",
       "       100.        ,  52.33333333,  71.33333333,  92.66666667,\n",
       "        68.66666667,  44.66666667,  68.        ,  61.33333333,\n",
       "        71.        ,  66.        ,  57.33333333,  65.66666667,\n",
       "        44.33333333,  51.66666667,  70.33333333,  60.33333333,\n",
       "        68.33333333,  73.        ,  91.66666667,  63.66666667,\n",
       "        59.        ,  57.33333333,  83.66666667,  71.33333333,\n",
       "        70.        ,  88.33333333,  70.33333333,  61.33333333,\n",
       "        62.33333333,  57.66666667,  81.33333333,  55.66666667,\n",
       "        50.33333333,  68.33333333,  79.33333333,  78.33333333,\n",
       "        73.33333333,  54.66666667,  66.66666667,  63.66666667,\n",
       "        84.        ,  97.33333333,  55.66666667,  75.66666667,\n",
       "        59.33333333,  51.66666667, 100.        ,  72.        ,\n",
       "        62.33333333,  68.        ,  66.        ,  62.        ,\n",
       "        70.33333333,  79.66666667,  96.33333333,  73.        ,\n",
       "        54.33333333,  58.33333333,  61.33333333,  74.33333333,\n",
       "        60.66666667,  61.66666667,  48.        ,  93.33333333,\n",
       "        18.33333333,  79.        ,  83.33333333,  85.33333333,\n",
       "        77.        ,  54.        ,  50.        ,  77.33333333,\n",
       "        44.66666667,  78.66666667,  80.66666667,  75.        ,\n",
       "        69.        ,  69.33333333,  62.66666667,  94.        ,\n",
       "        57.33333333,  65.        ,  74.33333333,  83.        ])"
      ]
     },
     "execution_count": 32,
     "metadata": {},
     "output_type": "execute_result"
    }
   ],
   "source": [
    "y"
   ]
  },
  {
   "cell_type": "code",
   "execution_count": 33,
   "id": "1a451f6f",
   "metadata": {},
   "outputs": [],
   "source": [
    "from sklearn.model_selection import train_test_split"
   ]
  },
  {
   "cell_type": "code",
   "execution_count": 34,
   "id": "02911289",
   "metadata": {},
   "outputs": [],
   "source": [
    "x_train, x_test, y_train, y_test = train_test_split(x,y,test_size = 0.25, random_state = 42)"
   ]
  },
  {
   "cell_type": "code",
   "execution_count": 35,
   "id": "962bc5cf",
   "metadata": {},
   "outputs": [],
   "source": [
    "from sklearn.ensemble import RandomForestRegressor"
   ]
  },
  {
   "cell_type": "code",
   "execution_count": 36,
   "id": "91d9f7cd",
   "metadata": {},
   "outputs": [],
   "source": [
    "model = RandomForestRegressor()"
   ]
  },
  {
   "cell_type": "code",
   "execution_count": 37,
   "id": "77890641",
   "metadata": {},
   "outputs": [
    {
     "data": {
      "text/html": [
       "<style>#sk-container-id-1 {color: black;background-color: white;}#sk-container-id-1 pre{padding: 0;}#sk-container-id-1 div.sk-toggleable {background-color: white;}#sk-container-id-1 label.sk-toggleable__label {cursor: pointer;display: block;width: 100%;margin-bottom: 0;padding: 0.3em;box-sizing: border-box;text-align: center;}#sk-container-id-1 label.sk-toggleable__label-arrow:before {content: \"▸\";float: left;margin-right: 0.25em;color: #696969;}#sk-container-id-1 label.sk-toggleable__label-arrow:hover:before {color: black;}#sk-container-id-1 div.sk-estimator:hover label.sk-toggleable__label-arrow:before {color: black;}#sk-container-id-1 div.sk-toggleable__content {max-height: 0;max-width: 0;overflow: hidden;text-align: left;background-color: #f0f8ff;}#sk-container-id-1 div.sk-toggleable__content pre {margin: 0.2em;color: black;border-radius: 0.25em;background-color: #f0f8ff;}#sk-container-id-1 input.sk-toggleable__control:checked~div.sk-toggleable__content {max-height: 200px;max-width: 100%;overflow: auto;}#sk-container-id-1 input.sk-toggleable__control:checked~label.sk-toggleable__label-arrow:before {content: \"▾\";}#sk-container-id-1 div.sk-estimator input.sk-toggleable__control:checked~label.sk-toggleable__label {background-color: #d4ebff;}#sk-container-id-1 div.sk-label input.sk-toggleable__control:checked~label.sk-toggleable__label {background-color: #d4ebff;}#sk-container-id-1 input.sk-hidden--visually {border: 0;clip: rect(1px 1px 1px 1px);clip: rect(1px, 1px, 1px, 1px);height: 1px;margin: -1px;overflow: hidden;padding: 0;position: absolute;width: 1px;}#sk-container-id-1 div.sk-estimator {font-family: monospace;background-color: #f0f8ff;border: 1px dotted black;border-radius: 0.25em;box-sizing: border-box;margin-bottom: 0.5em;}#sk-container-id-1 div.sk-estimator:hover {background-color: #d4ebff;}#sk-container-id-1 div.sk-parallel-item::after {content: \"\";width: 100%;border-bottom: 1px solid gray;flex-grow: 1;}#sk-container-id-1 div.sk-label:hover label.sk-toggleable__label {background-color: #d4ebff;}#sk-container-id-1 div.sk-serial::before {content: \"\";position: absolute;border-left: 1px solid gray;box-sizing: border-box;top: 0;bottom: 0;left: 50%;z-index: 0;}#sk-container-id-1 div.sk-serial {display: flex;flex-direction: column;align-items: center;background-color: white;padding-right: 0.2em;padding-left: 0.2em;position: relative;}#sk-container-id-1 div.sk-item {position: relative;z-index: 1;}#sk-container-id-1 div.sk-parallel {display: flex;align-items: stretch;justify-content: center;background-color: white;position: relative;}#sk-container-id-1 div.sk-item::before, #sk-container-id-1 div.sk-parallel-item::before {content: \"\";position: absolute;border-left: 1px solid gray;box-sizing: border-box;top: 0;bottom: 0;left: 50%;z-index: -1;}#sk-container-id-1 div.sk-parallel-item {display: flex;flex-direction: column;z-index: 1;position: relative;background-color: white;}#sk-container-id-1 div.sk-parallel-item:first-child::after {align-self: flex-end;width: 50%;}#sk-container-id-1 div.sk-parallel-item:last-child::after {align-self: flex-start;width: 50%;}#sk-container-id-1 div.sk-parallel-item:only-child::after {width: 0;}#sk-container-id-1 div.sk-dashed-wrapped {border: 1px dashed gray;margin: 0 0.4em 0.5em 0.4em;box-sizing: border-box;padding-bottom: 0.4em;background-color: white;}#sk-container-id-1 div.sk-label label {font-family: monospace;font-weight: bold;display: inline-block;line-height: 1.2em;}#sk-container-id-1 div.sk-label-container {text-align: center;}#sk-container-id-1 div.sk-container {/* jupyter's `normalize.less` sets `[hidden] { display: none; }` but bootstrap.min.css set `[hidden] { display: none !important; }` so we also need the `!important` here to be able to override the default hidden behavior on the sphinx rendered scikit-learn.org. See: https://github.com/scikit-learn/scikit-learn/issues/21755 */display: inline-block !important;position: relative;}#sk-container-id-1 div.sk-text-repr-fallback {display: none;}</style><div id=\"sk-container-id-1\" class=\"sk-top-container\"><div class=\"sk-text-repr-fallback\"><pre>RandomForestRegressor()</pre><b>In a Jupyter environment, please rerun this cell to show the HTML representation or trust the notebook. <br />On GitHub, the HTML representation is unable to render, please try loading this page with nbviewer.org.</b></div><div class=\"sk-container\" hidden><div class=\"sk-item\"><div class=\"sk-estimator sk-toggleable\"><input class=\"sk-toggleable__control sk-hidden--visually\" id=\"sk-estimator-id-1\" type=\"checkbox\" checked><label for=\"sk-estimator-id-1\" class=\"sk-toggleable__label sk-toggleable__label-arrow\">RandomForestRegressor</label><div class=\"sk-toggleable__content\"><pre>RandomForestRegressor()</pre></div></div></div></div></div>"
      ],
      "text/plain": [
       "RandomForestRegressor()"
      ]
     },
     "execution_count": 37,
     "metadata": {},
     "output_type": "execute_result"
    }
   ],
   "source": [
    "model.fit(x_train, y_train)"
   ]
  },
  {
   "cell_type": "code",
   "execution_count": 38,
   "id": "8d95b590",
   "metadata": {},
   "outputs": [],
   "source": [
    "predictions = model.predict(x_test)"
   ]
  },
  {
   "cell_type": "code",
   "execution_count": 39,
   "id": "a59fe2c6",
   "metadata": {},
   "outputs": [
    {
     "data": {
      "text/plain": [
       "array([86.63      , 63.46333333, 74.23666667, 75.23666667, 81.36      ,\n",
       "       78.09333333, 67.04333333, 59.21333333, 77.26333333, 49.63333333,\n",
       "       46.85333333, 27.56333333, 75.64333333, 58.43      , 84.09666667,\n",
       "       74.41333333, 49.77      , 48.06666667, 52.69333333, 60.98333333,\n",
       "       73.07666667, 49.89666667, 65.76      , 44.46333333, 78.61      ,\n",
       "       77.2       , 71.48666667, 50.02666667, 43.36666667, 55.64666667,\n",
       "       59.73666667, 67.14666667, 60.79333333, 73.00333333, 77.17      ,\n",
       "       51.63666667, 75.61666667, 74.25666667, 75.40666667, 22.46      ,\n",
       "       78.05666667, 64.45333333, 65.6       , 60.93      , 84.79666667,\n",
       "       64.57333333, 71.01      , 29.93666667, 86.14666667, 78.96      ,\n",
       "       71.70333333, 71.40666667, 77.90333333, 53.65      , 70.86      ,\n",
       "       72.11666667, 82.04      , 54.71666667, 82.53333333, 88.82      ,\n",
       "       43.57666667, 80.80666667, 78.71333333, 61.25666667, 87.38333333,\n",
       "       73.45333333, 65.33      , 54.38      , 63.84666667, 88.62666667,\n",
       "       64.10333333, 86.31      , 55.99333333, 51.69      , 59.35666667,\n",
       "       76.48      , 89.56333333, 56.36333333, 59.48666667, 48.98      ,\n",
       "       61.05666667, 39.46333333, 77.63      , 68.82      , 67.95666667,\n",
       "       64.37      , 74.04666667, 67.77666667, 83.70666667, 25.78333333,\n",
       "       77.60666667, 93.52666667, 61.25666667, 70.91      , 30.39666667,\n",
       "       69.03666667, 60.97333333, 64.79333333, 73.24333333, 65.23333333,\n",
       "       74.66      , 58.54666667, 58.89      , 68.48      , 70.93666667,\n",
       "       64.42      , 44.11666667, 76.45333333, 76.14666667, 51.40666667,\n",
       "       41.59      , 79.23      , 53.66666667, 56.83333333, 82.44666667,\n",
       "       57.46      , 48.32666667, 48.12333333, 70.08      , 78.15      ,\n",
       "       63.63333333, 63.35333333, 81.96      , 73.7       , 65.06      ,\n",
       "       66.60333333, 76.38333333, 72.97      , 48.01666667, 68.83      ,\n",
       "       76.43333333, 74.05      , 47.77666667, 94.57      , 69.1       ,\n",
       "       39.66333333, 86.42666667, 80.92      , 73.22      , 47.29      ,\n",
       "       52.71333333, 65.32666667, 57.55666667, 46.12333333, 79.67666667,\n",
       "       53.55666667, 39.52666667, 72.44      , 50.67      , 80.19666667,\n",
       "       77.48      , 79.81333333, 61.86      , 61.25333333, 87.39333333,\n",
       "       71.71666667, 52.36333333, 66.8       , 74.52333333, 51.58666667,\n",
       "       69.12666667, 64.91666667, 75.61      , 53.02333333, 84.08      ,\n",
       "       71.28      , 45.36      , 87.49666667, 64.98333333, 76.36      ,\n",
       "       82.56333333, 71.07      , 87.79333333, 78.70333333, 56.04666667,\n",
       "       32.37      , 52.41333333, 75.91333333, 90.55      , 76.11333333,\n",
       "       61.76666667, 70.45      , 92.21333333, 58.34666667, 86.5       ,\n",
       "       59.61666667, 67.49333333, 55.55333333, 69.60666667, 85.75333333,\n",
       "       50.49333333, 58.02666667, 69.12      , 77.49666667, 56.65333333,\n",
       "       55.11      , 57.03666667, 77.02      , 71.99      , 68.88666667,\n",
       "       69.24666667, 77.56666667, 84.29333333, 64.68666667, 63.97666667,\n",
       "       26.80666667, 97.72333333, 71.19666667, 66.13333333, 52.54      ,\n",
       "       63.96666667, 61.41666667, 65.44666667, 69.63      , 65.44      ,\n",
       "       39.14333333, 67.71333333, 60.17666667, 85.09666667, 85.06333333,\n",
       "       68.35      , 55.91      , 75.16      , 82.44333333, 31.33333333,\n",
       "       92.33333333, 64.19      , 61.17666667, 78.73333333, 56.19333333,\n",
       "       72.7       , 62.58333333, 55.79      , 50.14333333, 40.03333333,\n",
       "       63.07      , 44.23333333, 72.06333333, 63.98666667, 81.42666667,\n",
       "       49.42      , 47.99      , 90.71333333, 54.49      , 87.49333333,\n",
       "       68.38333333, 63.09666667, 78.94      , 38.44      , 87.6       ])"
      ]
     },
     "execution_count": 39,
     "metadata": {},
     "output_type": "execute_result"
    }
   ],
   "source": [
    "predictions"
   ]
  },
  {
   "cell_type": "code",
   "execution_count": 40,
   "id": "c77ee8ee",
   "metadata": {},
   "outputs": [],
   "source": [
    "from sklearn.metrics import r2_score"
   ]
  },
  {
   "cell_type": "code",
   "execution_count": 41,
   "id": "3a231569",
   "metadata": {},
   "outputs": [
    {
     "name": "stdout",
     "output_type": "stream",
     "text": [
      "0.9941683972422252\n"
     ]
    }
   ],
   "source": [
    "print(r2_score(predictions, y_test))"
   ]
  },
  {
   "cell_type": "code",
   "execution_count": 42,
   "id": "22f17721",
   "metadata": {},
   "outputs": [
    {
     "data": {
      "text/html": [
       "<div>\n",
       "<style scoped>\n",
       "    .dataframe tbody tr th:only-of-type {\n",
       "        vertical-align: middle;\n",
       "    }\n",
       "\n",
       "    .dataframe tbody tr th {\n",
       "        vertical-align: top;\n",
       "    }\n",
       "\n",
       "    .dataframe thead th {\n",
       "        text-align: right;\n",
       "    }\n",
       "</style>\n",
       "<table border=\"1\" class=\"dataframe\">\n",
       "  <thead>\n",
       "    <tr style=\"text-align: right;\">\n",
       "      <th></th>\n",
       "      <th>gender</th>\n",
       "      <th>race/ethnicity</th>\n",
       "      <th>parental level of education</th>\n",
       "      <th>math score</th>\n",
       "      <th>reading score</th>\n",
       "      <th>writing score</th>\n",
       "      <th>average_score</th>\n",
       "      <th>lunch_standard</th>\n",
       "      <th>test preparation course_none</th>\n",
       "    </tr>\n",
       "  </thead>\n",
       "  <tbody>\n",
       "    <tr>\n",
       "      <th>0</th>\n",
       "      <td>0</td>\n",
       "      <td>1</td>\n",
       "      <td>0</td>\n",
       "      <td>72</td>\n",
       "      <td>72</td>\n",
       "      <td>74</td>\n",
       "      <td>72.666667</td>\n",
       "      <td>1</td>\n",
       "      <td>1</td>\n",
       "    </tr>\n",
       "    <tr>\n",
       "      <th>1</th>\n",
       "      <td>0</td>\n",
       "      <td>2</td>\n",
       "      <td>1</td>\n",
       "      <td>69</td>\n",
       "      <td>90</td>\n",
       "      <td>88</td>\n",
       "      <td>82.333333</td>\n",
       "      <td>1</td>\n",
       "      <td>0</td>\n",
       "    </tr>\n",
       "    <tr>\n",
       "      <th>2</th>\n",
       "      <td>0</td>\n",
       "      <td>1</td>\n",
       "      <td>2</td>\n",
       "      <td>90</td>\n",
       "      <td>95</td>\n",
       "      <td>93</td>\n",
       "      <td>92.666667</td>\n",
       "      <td>1</td>\n",
       "      <td>1</td>\n",
       "    </tr>\n",
       "    <tr>\n",
       "      <th>3</th>\n",
       "      <td>1</td>\n",
       "      <td>0</td>\n",
       "      <td>3</td>\n",
       "      <td>47</td>\n",
       "      <td>57</td>\n",
       "      <td>44</td>\n",
       "      <td>49.333333</td>\n",
       "      <td>0</td>\n",
       "      <td>1</td>\n",
       "    </tr>\n",
       "    <tr>\n",
       "      <th>4</th>\n",
       "      <td>1</td>\n",
       "      <td>2</td>\n",
       "      <td>1</td>\n",
       "      <td>76</td>\n",
       "      <td>78</td>\n",
       "      <td>75</td>\n",
       "      <td>76.333333</td>\n",
       "      <td>1</td>\n",
       "      <td>1</td>\n",
       "    </tr>\n",
       "  </tbody>\n",
       "</table>\n",
       "</div>"
      ],
      "text/plain": [
       "   gender  race/ethnicity  parental level of education  math score  \\\n",
       "0       0               1                            0          72   \n",
       "1       0               2                            1          69   \n",
       "2       0               1                            2          90   \n",
       "3       1               0                            3          47   \n",
       "4       1               2                            1          76   \n",
       "\n",
       "   reading score  writing score  average_score  lunch_standard  \\\n",
       "0             72             74      72.666667               1   \n",
       "1             90             88      82.333333               1   \n",
       "2             95             93      92.666667               1   \n",
       "3             57             44      49.333333               0   \n",
       "4             78             75      76.333333               1   \n",
       "\n",
       "   test preparation course_none  \n",
       "0                             1  \n",
       "1                             0  \n",
       "2                             1  \n",
       "3                             1  \n",
       "4                             1  "
      ]
     },
     "execution_count": 42,
     "metadata": {},
     "output_type": "execute_result"
    }
   ],
   "source": [
    "df.head()"
   ]
  },
  {
   "cell_type": "markdown",
   "id": "455204c6",
   "metadata": {},
   "source": [
    "# Save ML Model"
   ]
  },
  {
   "cell_type": "code",
   "execution_count": 43,
   "id": "86fb9d20",
   "metadata": {},
   "outputs": [],
   "source": [
    "# import joblib\n",
    "# joblib.dump(model, 'Performace_Predictor.pkl')"
   ]
  },
  {
   "cell_type": "code",
   "execution_count": 44,
   "id": "28679f51",
   "metadata": {},
   "outputs": [],
   "source": [
    "import pickle\n",
    "pickle.dump(model, open(\"Predictor.pkl\", \"wb\"))"
   ]
  },
  {
   "cell_type": "code",
   "execution_count": 45,
   "id": "21c18a80",
   "metadata": {},
   "outputs": [],
   "source": [
    "# Model = joblib.load(\"Student_Performace_Predictor.pkl\")"
   ]
  },
  {
   "cell_type": "code",
   "execution_count": 46,
   "id": "10170eb4",
   "metadata": {},
   "outputs": [],
   "source": [
    "# un = df.drop(columns = 'average_score')"
   ]
  },
  {
   "cell_type": "code",
   "execution_count": 47,
   "id": "80000953",
   "metadata": {},
   "outputs": [],
   "source": [
    "# u1 = un.iloc[0,:].values"
   ]
  },
  {
   "cell_type": "code",
   "execution_count": 48,
   "id": "ddacff00",
   "metadata": {},
   "outputs": [],
   "source": [
    "# u1"
   ]
  },
  {
   "cell_type": "code",
   "execution_count": 49,
   "id": "e4508d79",
   "metadata": {},
   "outputs": [],
   "source": [
    "# Model.predict(u1)"
   ]
  },
  {
   "cell_type": "code",
   "execution_count": 50,
   "id": "34161b10",
   "metadata": {},
   "outputs": [],
   "source": [
    "# df.head()"
   ]
  },
  {
   "cell_type": "code",
   "execution_count": 51,
   "id": "79ffa985",
   "metadata": {
    "scrolled": true
   },
   "outputs": [],
   "source": [
    "# Model.predict(un)"
   ]
  },
  {
   "cell_type": "code",
   "execution_count": 54,
   "id": "32a0ad65",
   "metadata": {},
   "outputs": [],
   "source": [
    "from sklearn.linear_model import LinearRegression"
   ]
  },
  {
   "cell_type": "code",
   "execution_count": 55,
   "id": "ad28dd09",
   "metadata": {},
   "outputs": [],
   "source": [
    "regressor = LinearRegression()"
   ]
  },
  {
   "cell_type": "code",
   "execution_count": 56,
   "id": "1bce088c",
   "metadata": {},
   "outputs": [
    {
     "data": {
      "text/html": [
       "<style>#sk-container-id-2 {color: black;background-color: white;}#sk-container-id-2 pre{padding: 0;}#sk-container-id-2 div.sk-toggleable {background-color: white;}#sk-container-id-2 label.sk-toggleable__label {cursor: pointer;display: block;width: 100%;margin-bottom: 0;padding: 0.3em;box-sizing: border-box;text-align: center;}#sk-container-id-2 label.sk-toggleable__label-arrow:before {content: \"▸\";float: left;margin-right: 0.25em;color: #696969;}#sk-container-id-2 label.sk-toggleable__label-arrow:hover:before {color: black;}#sk-container-id-2 div.sk-estimator:hover label.sk-toggleable__label-arrow:before {color: black;}#sk-container-id-2 div.sk-toggleable__content {max-height: 0;max-width: 0;overflow: hidden;text-align: left;background-color: #f0f8ff;}#sk-container-id-2 div.sk-toggleable__content pre {margin: 0.2em;color: black;border-radius: 0.25em;background-color: #f0f8ff;}#sk-container-id-2 input.sk-toggleable__control:checked~div.sk-toggleable__content {max-height: 200px;max-width: 100%;overflow: auto;}#sk-container-id-2 input.sk-toggleable__control:checked~label.sk-toggleable__label-arrow:before {content: \"▾\";}#sk-container-id-2 div.sk-estimator input.sk-toggleable__control:checked~label.sk-toggleable__label {background-color: #d4ebff;}#sk-container-id-2 div.sk-label input.sk-toggleable__control:checked~label.sk-toggleable__label {background-color: #d4ebff;}#sk-container-id-2 input.sk-hidden--visually {border: 0;clip: rect(1px 1px 1px 1px);clip: rect(1px, 1px, 1px, 1px);height: 1px;margin: -1px;overflow: hidden;padding: 0;position: absolute;width: 1px;}#sk-container-id-2 div.sk-estimator {font-family: monospace;background-color: #f0f8ff;border: 1px dotted black;border-radius: 0.25em;box-sizing: border-box;margin-bottom: 0.5em;}#sk-container-id-2 div.sk-estimator:hover {background-color: #d4ebff;}#sk-container-id-2 div.sk-parallel-item::after {content: \"\";width: 100%;border-bottom: 1px solid gray;flex-grow: 1;}#sk-container-id-2 div.sk-label:hover label.sk-toggleable__label {background-color: #d4ebff;}#sk-container-id-2 div.sk-serial::before {content: \"\";position: absolute;border-left: 1px solid gray;box-sizing: border-box;top: 0;bottom: 0;left: 50%;z-index: 0;}#sk-container-id-2 div.sk-serial {display: flex;flex-direction: column;align-items: center;background-color: white;padding-right: 0.2em;padding-left: 0.2em;position: relative;}#sk-container-id-2 div.sk-item {position: relative;z-index: 1;}#sk-container-id-2 div.sk-parallel {display: flex;align-items: stretch;justify-content: center;background-color: white;position: relative;}#sk-container-id-2 div.sk-item::before, #sk-container-id-2 div.sk-parallel-item::before {content: \"\";position: absolute;border-left: 1px solid gray;box-sizing: border-box;top: 0;bottom: 0;left: 50%;z-index: -1;}#sk-container-id-2 div.sk-parallel-item {display: flex;flex-direction: column;z-index: 1;position: relative;background-color: white;}#sk-container-id-2 div.sk-parallel-item:first-child::after {align-self: flex-end;width: 50%;}#sk-container-id-2 div.sk-parallel-item:last-child::after {align-self: flex-start;width: 50%;}#sk-container-id-2 div.sk-parallel-item:only-child::after {width: 0;}#sk-container-id-2 div.sk-dashed-wrapped {border: 1px dashed gray;margin: 0 0.4em 0.5em 0.4em;box-sizing: border-box;padding-bottom: 0.4em;background-color: white;}#sk-container-id-2 div.sk-label label {font-family: monospace;font-weight: bold;display: inline-block;line-height: 1.2em;}#sk-container-id-2 div.sk-label-container {text-align: center;}#sk-container-id-2 div.sk-container {/* jupyter's `normalize.less` sets `[hidden] { display: none; }` but bootstrap.min.css set `[hidden] { display: none !important; }` so we also need the `!important` here to be able to override the default hidden behavior on the sphinx rendered scikit-learn.org. See: https://github.com/scikit-learn/scikit-learn/issues/21755 */display: inline-block !important;position: relative;}#sk-container-id-2 div.sk-text-repr-fallback {display: none;}</style><div id=\"sk-container-id-2\" class=\"sk-top-container\"><div class=\"sk-text-repr-fallback\"><pre>LinearRegression()</pre><b>In a Jupyter environment, please rerun this cell to show the HTML representation or trust the notebook. <br />On GitHub, the HTML representation is unable to render, please try loading this page with nbviewer.org.</b></div><div class=\"sk-container\" hidden><div class=\"sk-item\"><div class=\"sk-estimator sk-toggleable\"><input class=\"sk-toggleable__control sk-hidden--visually\" id=\"sk-estimator-id-2\" type=\"checkbox\" checked><label for=\"sk-estimator-id-2\" class=\"sk-toggleable__label sk-toggleable__label-arrow\">LinearRegression</label><div class=\"sk-toggleable__content\"><pre>LinearRegression()</pre></div></div></div></div></div>"
      ],
      "text/plain": [
       "LinearRegression()"
      ]
     },
     "execution_count": 56,
     "metadata": {},
     "output_type": "execute_result"
    }
   ],
   "source": [
    "regressor.fit(x_train, y_train)"
   ]
  },
  {
   "cell_type": "code",
   "execution_count": 58,
   "id": "ae92012f",
   "metadata": {},
   "outputs": [],
   "source": [
    "# regressor.score(x_train, y_train)"
   ]
  },
  {
   "cell_type": "code",
   "execution_count": 52,
   "id": "43035f09",
   "metadata": {},
   "outputs": [],
   "source": [
    "# Model.predict([[0],[2],[1],[69],[90],[88],[1],[0]])"
   ]
  },
  {
   "cell_type": "code",
   "execution_count": null,
   "id": "31059f92",
   "metadata": {},
   "outputs": [],
   "source": []
  }
 ],
 "metadata": {
  "kernelspec": {
   "display_name": "Python 3 (ipykernel)",
   "language": "python",
   "name": "python3"
  },
  "language_info": {
   "codemirror_mode": {
    "name": "ipython",
    "version": 3
   },
   "file_extension": ".py",
   "mimetype": "text/x-python",
   "name": "python",
   "nbconvert_exporter": "python",
   "pygments_lexer": "ipython3",
   "version": "3.11.0"
  }
 },
 "nbformat": 4,
 "nbformat_minor": 5
}
